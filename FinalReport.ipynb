{
 "cells": [
  {
   "cell_type": "code",
   "execution_count": 1,
   "metadata": {},
   "outputs": [],
   "source": [
    "import pandas as pd\n",
    "import numpy as np\n",
    "import matplotlib.pyplot as plt\n",
    "import seaborn as sns\n",
    "import datetime\n",
    "from scipy import stats as s\n",
    "from sklearn.model_selection import train_test_split\n",
    "import statistics"
   ]
  },
  {
   "cell_type": "code",
   "execution_count": 2,
   "metadata": {},
   "outputs": [],
   "source": [
    "from sklearn.metrics import mean_squared_error\n",
    "from sklearn.metrics import mean_absolute_error\n",
    "from sklearn.metrics import confusion_matrix\n",
    "from sklearn.metrics import accuracy_score\n",
    "from sklearn.metrics import precision_score\n",
    "from sklearn.metrics import recall_score\n",
    "from sklearn.metrics import f1_score"
   ]
  },
  {
   "cell_type": "code",
   "execution_count": 3,
   "metadata": {},
   "outputs": [],
   "source": [
    "def reduce_mem_usage(df, verbose=True):\n",
    "    numerics = ['int16', 'int32', 'int64', 'float16', 'float32', 'float64']\n",
    "    start_mem = df.memory_usage().sum() / 1024**2    \n",
    "    for col in df.columns:\n",
    "        col_type = df[col].dtypes\n",
    "        if col_type in numerics:\n",
    "            c_min = df[col].min()\n",
    "            c_max = df[col].max()\n",
    "            if str(col_type)[:3] == 'int':\n",
    "                if c_min > np.iinfo(np.int8).min and c_max < np.iinfo(np.int8).max:\n",
    "                    df[col] = df[col].astype(np.int8)\n",
    "                elif c_min > np.iinfo(np.int16).min and c_max < np.iinfo(np.int16).max:\n",
    "                    df[col] = df[col].astype(np.int16)\n",
    "                elif c_min > np.iinfo(np.int32).min and c_max < np.iinfo(np.int32).max:\n",
    "                    df[col] = df[col].astype(np.int32)\n",
    "                elif c_min > np.iinfo(np.int64).min and c_max < np.iinfo(np.int64).max:\n",
    "                    df[col] = df[col].astype(np.int64)  \n",
    "            else:\n",
    "                if c_min > np.finfo(np.float16).min and c_max < np.finfo(np.float16).max:\n",
    "                    df[col] = df[col].astype(np.float16)\n",
    "                elif c_min > np.finfo(np.float32).min and c_max < np.finfo(np.float32).max:\n",
    "                    df[col] = df[col].astype(np.float32)\n",
    "                else:\n",
    "                    df[col] = df[col].astype(np.float64)    \n",
    "    end_mem = df.memory_usage().sum() / 1024**2\n",
    "    if verbose: print('Mem. usage decreased to {:5.2f} Mb ({:.1f}% reduction)'.format(end_mem, 100 * (start_mem - end_mem) / start_mem))\n",
    "    return df"
   ]
  },
  {
   "cell_type": "code",
   "execution_count": 4,
   "metadata": {},
   "outputs": [],
   "source": [
    "historical_transactions =pd.read_csv('C:/Users/wei/Documents/碩士/碩二/推薦系統/elo-merchant-category-recommendation/historical_transactions.csv')\n",
    "merchants = pd.read_csv('C:/Users/wei/Documents/碩士/碩二/推薦系統/elo-merchant-category-recommendation/merchants.csv')\n",
    "new_transactions = pd.read_csv('C:/Users/wei/Documents/碩士/碩二/推薦系統/elo-merchant-category-recommendation/new_merchant_transactions.csv')\n",
    "train = pd.read_csv('C:/Users/wei/Documents/碩士/碩二/推薦系統/elo-merchant-category-recommendation/train.csv')\n",
    "test= pd.read_csv('C:/Users/wei/Documents/碩士/碩二/推薦系統/elo-merchant-category-recommendation/test.csv')"
   ]
  },
  {
   "cell_type": "code",
   "execution_count": 5,
   "metadata": {},
   "outputs": [
    {
     "name": "stderr",
     "output_type": "stream",
     "text": [
      "C:\\Users\\wei\\Anaconda3\\lib\\site-packages\\ipykernel_launcher.py:4: FutureWarning: Series.dt.weekofyear and Series.dt.week have been deprecated.  Please use Series.dt.isocalendar().week instead.\n",
      "  after removing the cwd from sys.path.\n",
      "C:\\Users\\wei\\Anaconda3\\lib\\site-packages\\ipykernel_launcher.py:4: FutureWarning: Series.dt.weekofyear and Series.dt.week have been deprecated.  Please use Series.dt.isocalendar().week instead.\n",
      "  after removing the cwd from sys.path.\n"
     ]
    }
   ],
   "source": [
    "for df in [historical_transactions, new_transactions]:\n",
    "    df['purchase_date'] = pd.to_datetime(df['purchase_date'])\n",
    "    df['year'] = df['purchase_date'].dt.year\n",
    "    df['weekofyear'] = df['purchase_date'].dt.weekofyear\n",
    "    df['month'] = df['purchase_date'].dt.month\n",
    "    df['dayofweek'] = df['purchase_date'].dt.dayofweek\n",
    "    df['weekend'] = (df.purchase_date.dt.weekday >=5).astype(int)\n",
    "    df['hour'] = df['purchase_date'].dt.hour\n",
    "    df['authorized_flag'] = df['authorized_flag'].map({'Y':1, 'N':0})\n",
    "    df['category_1'] = df['category_1'].map({'Y':1, 'N':0}) \n",
    "    df['month_diff'] = ((datetime.datetime.today() - df['purchase_date']).dt.days)//30\n",
    "    df['month_diff'] += df['month_lag']"
   ]
  },
  {
   "cell_type": "code",
   "execution_count": 6,
   "metadata": {},
   "outputs": [
    {
     "name": "stdout",
     "output_type": "stream",
     "text": [
      "Mem. usage decreased to 1582.53 Mb (65.2% reduction)\n",
      "Mem. usage decreased to 102.97 Mb (66.5% reduction)\n"
     ]
    }
   ],
   "source": [
    "historical_transactions = reduce_mem_usage(historical_transactions)\n",
    "new_transactions = reduce_mem_usage(new_transactions)"
   ]
  },
  {
   "cell_type": "code",
   "execution_count": 7,
   "metadata": {},
   "outputs": [],
   "source": [
    "historical_transactions = pd.get_dummies(historical_transactions, columns=['category_2', 'category_3'])\n",
    "new_transactions = pd.get_dummies(new_transactions, columns=['category_2', 'category_3'])"
   ]
  },
  {
   "cell_type": "code",
   "execution_count": 8,
   "metadata": {},
   "outputs": [],
   "source": [
    "def aggregate_transactions(history):\n",
    "    \n",
    "    history.loc[:, 'purchase_date'] = pd.DatetimeIndex(history['purchase_date']).\\\n",
    "                                      astype(np.int64) * 1e-9\n",
    "    \n",
    "    agg_func = {\n",
    "    'authorized_flag': ['mean'],\n",
    "    'category_1': ['sum', 'mean'],\n",
    "    'category_2_1.0': ['mean'],\n",
    "    'category_2_2.0': ['mean'],\n",
    "    'category_2_3.0': ['mean'],\n",
    "    'category_2_4.0': ['mean'],\n",
    "    'category_2_5.0': ['mean'],\n",
    "    'category_3_A': ['mean'],\n",
    "    'category_3_B': ['mean'],\n",
    "    'category_3_C': ['mean'],\n",
    "    'merchant_id': ['nunique'],\n",
    "    'merchant_category_id': ['nunique'],\n",
    "    'state_id': ['nunique'],\n",
    "    'city_id': ['nunique'],\n",
    "    'subsector_id': ['nunique'],\n",
    "    'purchase_amount': ['sum', 'mean', 'max', 'min', 'std'],\n",
    "    'installments': ['sum', 'mean', 'max', 'min', 'std'],\n",
    "    'purchase_date': [np.ptp, 'min', 'max'],\n",
    "    'month_lag': ['mean', 'max', 'min', 'std'],\n",
    "    'month_diff': ['mean'],\n",
    "    'month': ['nunique'],\n",
    "    'hour': ['nunique'],\n",
    "    'weekofyear': ['nunique'],\n",
    "    'dayofweek': ['nunique'],\n",
    "    'year': ['nunique'],\n",
    "    'authorized_flag': ['sum', 'mean'],\n",
    "    'weekend': ['sum', 'mean']\n",
    "    }\n",
    "    \n",
    "    agg_history = history.groupby(['card_id']).agg(agg_func)\n",
    "    agg_history.columns = ['_'.join(col).strip() for col in agg_history.columns.values]\n",
    "    agg_history.reset_index(inplace=True)\n",
    "    \n",
    "    df = (history.groupby('card_id')\n",
    "          .size()\n",
    "          .reset_index(name='transactions_count'))\n",
    "    \n",
    "    agg_history = pd.merge(df, agg_history, on='card_id', how='left')\n",
    "    \n",
    "    return agg_history"
   ]
  },
  {
   "cell_type": "code",
   "execution_count": 9,
   "metadata": {},
   "outputs": [
    {
     "data": {
      "text/html": [
       "<div>\n",
       "<style scoped>\n",
       "    .dataframe tbody tr th:only-of-type {\n",
       "        vertical-align: middle;\n",
       "    }\n",
       "\n",
       "    .dataframe tbody tr th {\n",
       "        vertical-align: top;\n",
       "    }\n",
       "\n",
       "    .dataframe thead th {\n",
       "        text-align: right;\n",
       "    }\n",
       "</style>\n",
       "<table border=\"1\" class=\"dataframe\">\n",
       "  <thead>\n",
       "    <tr style=\"text-align: right;\">\n",
       "      <th></th>\n",
       "      <th>card_id</th>\n",
       "      <th>hist_transactions_count</th>\n",
       "      <th>hist_authorized_flag_sum</th>\n",
       "      <th>hist_authorized_flag_mean</th>\n",
       "      <th>hist_category_1_sum</th>\n",
       "      <th>hist_category_1_mean</th>\n",
       "      <th>hist_category_2_1.0_mean</th>\n",
       "      <th>hist_category_2_2.0_mean</th>\n",
       "      <th>hist_category_2_3.0_mean</th>\n",
       "      <th>hist_category_2_4.0_mean</th>\n",
       "      <th>...</th>\n",
       "      <th>hist_month_lag_min</th>\n",
       "      <th>hist_month_lag_std</th>\n",
       "      <th>hist_month_diff_mean</th>\n",
       "      <th>hist_month_nunique</th>\n",
       "      <th>hist_hour_nunique</th>\n",
       "      <th>hist_weekofyear_nunique</th>\n",
       "      <th>hist_dayofweek_nunique</th>\n",
       "      <th>hist_year_nunique</th>\n",
       "      <th>hist_weekend_sum</th>\n",
       "      <th>hist_weekend_mean</th>\n",
       "    </tr>\n",
       "  </thead>\n",
       "  <tbody>\n",
       "    <tr>\n",
       "      <th>0</th>\n",
       "      <td>C_ID_00007093c1</td>\n",
       "      <td>149</td>\n",
       "      <td>114.0</td>\n",
       "      <td>0.765101</td>\n",
       "      <td>28.0</td>\n",
       "      <td>0.187919</td>\n",
       "      <td>0.000000</td>\n",
       "      <td>0.000000</td>\n",
       "      <td>0.805369</td>\n",
       "      <td>0.0</td>\n",
       "      <td>...</td>\n",
       "      <td>-12</td>\n",
       "      <td>3.453114</td>\n",
       "      <td>47.402685</td>\n",
       "      <td>12</td>\n",
       "      <td>18</td>\n",
       "      <td>39</td>\n",
       "      <td>7</td>\n",
       "      <td>2</td>\n",
       "      <td>25.0</td>\n",
       "      <td>0.167785</td>\n",
       "    </tr>\n",
       "    <tr>\n",
       "      <th>1</th>\n",
       "      <td>C_ID_0001238066</td>\n",
       "      <td>123</td>\n",
       "      <td>120.0</td>\n",
       "      <td>0.975610</td>\n",
       "      <td>2.0</td>\n",
       "      <td>0.016260</td>\n",
       "      <td>0.772358</td>\n",
       "      <td>0.000000</td>\n",
       "      <td>0.000000</td>\n",
       "      <td>0.0</td>\n",
       "      <td>...</td>\n",
       "      <td>-5</td>\n",
       "      <td>1.288980</td>\n",
       "      <td>47.252033</td>\n",
       "      <td>6</td>\n",
       "      <td>20</td>\n",
       "      <td>23</td>\n",
       "      <td>7</td>\n",
       "      <td>2</td>\n",
       "      <td>52.0</td>\n",
       "      <td>0.422764</td>\n",
       "    </tr>\n",
       "    <tr>\n",
       "      <th>2</th>\n",
       "      <td>C_ID_0001506ef0</td>\n",
       "      <td>66</td>\n",
       "      <td>62.0</td>\n",
       "      <td>0.939394</td>\n",
       "      <td>0.0</td>\n",
       "      <td>0.000000</td>\n",
       "      <td>0.030303</td>\n",
       "      <td>0.000000</td>\n",
       "      <td>0.969697</td>\n",
       "      <td>0.0</td>\n",
       "      <td>...</td>\n",
       "      <td>-13</td>\n",
       "      <td>4.237500</td>\n",
       "      <td>47.378788</td>\n",
       "      <td>11</td>\n",
       "      <td>15</td>\n",
       "      <td>24</td>\n",
       "      <td>7</td>\n",
       "      <td>2</td>\n",
       "      <td>32.0</td>\n",
       "      <td>0.484848</td>\n",
       "    </tr>\n",
       "    <tr>\n",
       "      <th>3</th>\n",
       "      <td>C_ID_0001793786</td>\n",
       "      <td>216</td>\n",
       "      <td>189.0</td>\n",
       "      <td>0.875000</td>\n",
       "      <td>2.0</td>\n",
       "      <td>0.009259</td>\n",
       "      <td>0.050926</td>\n",
       "      <td>0.351852</td>\n",
       "      <td>0.069444</td>\n",
       "      <td>0.0</td>\n",
       "      <td>...</td>\n",
       "      <td>-9</td>\n",
       "      <td>2.306373</td>\n",
       "      <td>51.259259</td>\n",
       "      <td>10</td>\n",
       "      <td>21</td>\n",
       "      <td>33</td>\n",
       "      <td>7</td>\n",
       "      <td>1</td>\n",
       "      <td>37.0</td>\n",
       "      <td>0.171296</td>\n",
       "    </tr>\n",
       "    <tr>\n",
       "      <th>4</th>\n",
       "      <td>C_ID_000183fdda</td>\n",
       "      <td>144</td>\n",
       "      <td>137.0</td>\n",
       "      <td>0.951389</td>\n",
       "      <td>4.0</td>\n",
       "      <td>0.027778</td>\n",
       "      <td>0.048611</td>\n",
       "      <td>0.006944</td>\n",
       "      <td>0.909722</td>\n",
       "      <td>0.0</td>\n",
       "      <td>...</td>\n",
       "      <td>-6</td>\n",
       "      <td>1.895264</td>\n",
       "      <td>47.326389</td>\n",
       "      <td>7</td>\n",
       "      <td>19</td>\n",
       "      <td>27</td>\n",
       "      <td>7</td>\n",
       "      <td>2</td>\n",
       "      <td>33.0</td>\n",
       "      <td>0.229167</td>\n",
       "    </tr>\n",
       "  </tbody>\n",
       "</table>\n",
       "<p>5 rows × 44 columns</p>\n",
       "</div>"
      ],
      "text/plain": [
       "           card_id  hist_transactions_count  hist_authorized_flag_sum  \\\n",
       "0  C_ID_00007093c1                      149                     114.0   \n",
       "1  C_ID_0001238066                      123                     120.0   \n",
       "2  C_ID_0001506ef0                       66                      62.0   \n",
       "3  C_ID_0001793786                      216                     189.0   \n",
       "4  C_ID_000183fdda                      144                     137.0   \n",
       "\n",
       "   hist_authorized_flag_mean  hist_category_1_sum  hist_category_1_mean  \\\n",
       "0                   0.765101                 28.0              0.187919   \n",
       "1                   0.975610                  2.0              0.016260   \n",
       "2                   0.939394                  0.0              0.000000   \n",
       "3                   0.875000                  2.0              0.009259   \n",
       "4                   0.951389                  4.0              0.027778   \n",
       "\n",
       "   hist_category_2_1.0_mean  hist_category_2_2.0_mean  \\\n",
       "0                  0.000000                  0.000000   \n",
       "1                  0.772358                  0.000000   \n",
       "2                  0.030303                  0.000000   \n",
       "3                  0.050926                  0.351852   \n",
       "4                  0.048611                  0.006944   \n",
       "\n",
       "   hist_category_2_3.0_mean  hist_category_2_4.0_mean  ...  \\\n",
       "0                  0.805369                       0.0  ...   \n",
       "1                  0.000000                       0.0  ...   \n",
       "2                  0.969697                       0.0  ...   \n",
       "3                  0.069444                       0.0  ...   \n",
       "4                  0.909722                       0.0  ...   \n",
       "\n",
       "   hist_month_lag_min  hist_month_lag_std  hist_month_diff_mean  \\\n",
       "0                 -12            3.453114             47.402685   \n",
       "1                  -5            1.288980             47.252033   \n",
       "2                 -13            4.237500             47.378788   \n",
       "3                  -9            2.306373             51.259259   \n",
       "4                  -6            1.895264             47.326389   \n",
       "\n",
       "   hist_month_nunique  hist_hour_nunique  hist_weekofyear_nunique  \\\n",
       "0                  12                 18                       39   \n",
       "1                   6                 20                       23   \n",
       "2                  11                 15                       24   \n",
       "3                  10                 21                       33   \n",
       "4                   7                 19                       27   \n",
       "\n",
       "   hist_dayofweek_nunique  hist_year_nunique  hist_weekend_sum  \\\n",
       "0                       7                  2              25.0   \n",
       "1                       7                  2              52.0   \n",
       "2                       7                  2              32.0   \n",
       "3                       7                  1              37.0   \n",
       "4                       7                  2              33.0   \n",
       "\n",
       "   hist_weekend_mean  \n",
       "0           0.167785  \n",
       "1           0.422764  \n",
       "2           0.484848  \n",
       "3           0.171296  \n",
       "4           0.229167  \n",
       "\n",
       "[5 rows x 44 columns]"
      ]
     },
     "execution_count": 9,
     "metadata": {},
     "output_type": "execute_result"
    }
   ],
   "source": [
    "history = aggregate_transactions(historical_transactions)\n",
    "history.columns = ['hist_' + c if c != 'card_id' else c for c in history.columns]\n",
    "history[:5]"
   ]
  },
  {
   "cell_type": "code",
   "execution_count": 10,
   "metadata": {},
   "outputs": [
    {
     "data": {
      "text/html": [
       "<div>\n",
       "<style scoped>\n",
       "    .dataframe tbody tr th:only-of-type {\n",
       "        vertical-align: middle;\n",
       "    }\n",
       "\n",
       "    .dataframe tbody tr th {\n",
       "        vertical-align: top;\n",
       "    }\n",
       "\n",
       "    .dataframe thead th {\n",
       "        text-align: right;\n",
       "    }\n",
       "</style>\n",
       "<table border=\"1\" class=\"dataframe\">\n",
       "  <thead>\n",
       "    <tr style=\"text-align: right;\">\n",
       "      <th></th>\n",
       "      <th>card_id</th>\n",
       "      <th>new_transactions_count</th>\n",
       "      <th>new_authorized_flag_sum</th>\n",
       "      <th>new_authorized_flag_mean</th>\n",
       "      <th>new_category_1_sum</th>\n",
       "      <th>new_category_1_mean</th>\n",
       "      <th>new_category_2_1.0_mean</th>\n",
       "      <th>new_category_2_2.0_mean</th>\n",
       "      <th>new_category_2_3.0_mean</th>\n",
       "      <th>new_category_2_4.0_mean</th>\n",
       "      <th>...</th>\n",
       "      <th>new_month_lag_min</th>\n",
       "      <th>new_month_lag_std</th>\n",
       "      <th>new_month_diff_mean</th>\n",
       "      <th>new_month_nunique</th>\n",
       "      <th>new_hour_nunique</th>\n",
       "      <th>new_weekofyear_nunique</th>\n",
       "      <th>new_dayofweek_nunique</th>\n",
       "      <th>new_year_nunique</th>\n",
       "      <th>new_weekend_sum</th>\n",
       "      <th>new_weekend_mean</th>\n",
       "    </tr>\n",
       "  </thead>\n",
       "  <tbody>\n",
       "    <tr>\n",
       "      <th>0</th>\n",
       "      <td>C_ID_00007093c1</td>\n",
       "      <td>2</td>\n",
       "      <td>2</td>\n",
       "      <td>1</td>\n",
       "      <td>0</td>\n",
       "      <td>0.000000</td>\n",
       "      <td>0.500000</td>\n",
       "      <td>0.000000</td>\n",
       "      <td>0.50000</td>\n",
       "      <td>0.0</td>\n",
       "      <td>...</td>\n",
       "      <td>2</td>\n",
       "      <td>0.000000</td>\n",
       "      <td>47.500000</td>\n",
       "      <td>1</td>\n",
       "      <td>2</td>\n",
       "      <td>2</td>\n",
       "      <td>2</td>\n",
       "      <td>1</td>\n",
       "      <td>0</td>\n",
       "      <td>0.000000</td>\n",
       "    </tr>\n",
       "    <tr>\n",
       "      <th>1</th>\n",
       "      <td>C_ID_0001238066</td>\n",
       "      <td>26</td>\n",
       "      <td>26</td>\n",
       "      <td>1</td>\n",
       "      <td>2</td>\n",
       "      <td>0.076923</td>\n",
       "      <td>0.769231</td>\n",
       "      <td>0.000000</td>\n",
       "      <td>0.00000</td>\n",
       "      <td>0.0</td>\n",
       "      <td>...</td>\n",
       "      <td>1</td>\n",
       "      <td>0.485165</td>\n",
       "      <td>47.153846</td>\n",
       "      <td>2</td>\n",
       "      <td>16</td>\n",
       "      <td>9</td>\n",
       "      <td>6</td>\n",
       "      <td>1</td>\n",
       "      <td>12</td>\n",
       "      <td>0.461538</td>\n",
       "    </tr>\n",
       "    <tr>\n",
       "      <th>2</th>\n",
       "      <td>C_ID_0001506ef0</td>\n",
       "      <td>2</td>\n",
       "      <td>2</td>\n",
       "      <td>1</td>\n",
       "      <td>0</td>\n",
       "      <td>0.000000</td>\n",
       "      <td>0.000000</td>\n",
       "      <td>0.000000</td>\n",
       "      <td>1.00000</td>\n",
       "      <td>0.0</td>\n",
       "      <td>...</td>\n",
       "      <td>1</td>\n",
       "      <td>0.000000</td>\n",
       "      <td>47.000000</td>\n",
       "      <td>1</td>\n",
       "      <td>2</td>\n",
       "      <td>2</td>\n",
       "      <td>2</td>\n",
       "      <td>1</td>\n",
       "      <td>0</td>\n",
       "      <td>0.000000</td>\n",
       "    </tr>\n",
       "    <tr>\n",
       "      <th>3</th>\n",
       "      <td>C_ID_0001793786</td>\n",
       "      <td>31</td>\n",
       "      <td>31</td>\n",
       "      <td>1</td>\n",
       "      <td>0</td>\n",
       "      <td>0.000000</td>\n",
       "      <td>0.483871</td>\n",
       "      <td>0.258065</td>\n",
       "      <td>0.16129</td>\n",
       "      <td>0.0</td>\n",
       "      <td>...</td>\n",
       "      <td>1</td>\n",
       "      <td>0.475191</td>\n",
       "      <td>51.000000</td>\n",
       "      <td>2</td>\n",
       "      <td>10</td>\n",
       "      <td>6</td>\n",
       "      <td>6</td>\n",
       "      <td>1</td>\n",
       "      <td>14</td>\n",
       "      <td>0.451613</td>\n",
       "    </tr>\n",
       "    <tr>\n",
       "      <th>4</th>\n",
       "      <td>C_ID_000183fdda</td>\n",
       "      <td>11</td>\n",
       "      <td>11</td>\n",
       "      <td>1</td>\n",
       "      <td>0</td>\n",
       "      <td>0.000000</td>\n",
       "      <td>0.000000</td>\n",
       "      <td>0.000000</td>\n",
       "      <td>1.00000</td>\n",
       "      <td>0.0</td>\n",
       "      <td>...</td>\n",
       "      <td>1</td>\n",
       "      <td>0.467099</td>\n",
       "      <td>47.545455</td>\n",
       "      <td>2</td>\n",
       "      <td>8</td>\n",
       "      <td>7</td>\n",
       "      <td>6</td>\n",
       "      <td>1</td>\n",
       "      <td>2</td>\n",
       "      <td>0.181818</td>\n",
       "    </tr>\n",
       "  </tbody>\n",
       "</table>\n",
       "<p>5 rows × 44 columns</p>\n",
       "</div>"
      ],
      "text/plain": [
       "           card_id  new_transactions_count  new_authorized_flag_sum  \\\n",
       "0  C_ID_00007093c1                       2                        2   \n",
       "1  C_ID_0001238066                      26                       26   \n",
       "2  C_ID_0001506ef0                       2                        2   \n",
       "3  C_ID_0001793786                      31                       31   \n",
       "4  C_ID_000183fdda                      11                       11   \n",
       "\n",
       "   new_authorized_flag_mean  new_category_1_sum  new_category_1_mean  \\\n",
       "0                         1                   0             0.000000   \n",
       "1                         1                   2             0.076923   \n",
       "2                         1                   0             0.000000   \n",
       "3                         1                   0             0.000000   \n",
       "4                         1                   0             0.000000   \n",
       "\n",
       "   new_category_2_1.0_mean  new_category_2_2.0_mean  new_category_2_3.0_mean  \\\n",
       "0                 0.500000                 0.000000                  0.50000   \n",
       "1                 0.769231                 0.000000                  0.00000   \n",
       "2                 0.000000                 0.000000                  1.00000   \n",
       "3                 0.483871                 0.258065                  0.16129   \n",
       "4                 0.000000                 0.000000                  1.00000   \n",
       "\n",
       "   new_category_2_4.0_mean  ...  new_month_lag_min  new_month_lag_std  \\\n",
       "0                      0.0  ...                  2           0.000000   \n",
       "1                      0.0  ...                  1           0.485165   \n",
       "2                      0.0  ...                  1           0.000000   \n",
       "3                      0.0  ...                  1           0.475191   \n",
       "4                      0.0  ...                  1           0.467099   \n",
       "\n",
       "   new_month_diff_mean  new_month_nunique  new_hour_nunique  \\\n",
       "0            47.500000                  1                 2   \n",
       "1            47.153846                  2                16   \n",
       "2            47.000000                  1                 2   \n",
       "3            51.000000                  2                10   \n",
       "4            47.545455                  2                 8   \n",
       "\n",
       "   new_weekofyear_nunique  new_dayofweek_nunique  new_year_nunique  \\\n",
       "0                       2                      2                 1   \n",
       "1                       9                      6                 1   \n",
       "2                       2                      2                 1   \n",
       "3                       6                      6                 1   \n",
       "4                       7                      6                 1   \n",
       "\n",
       "   new_weekend_sum  new_weekend_mean  \n",
       "0                0          0.000000  \n",
       "1               12          0.461538  \n",
       "2                0          0.000000  \n",
       "3               14          0.451613  \n",
       "4                2          0.181818  \n",
       "\n",
       "[5 rows x 44 columns]"
      ]
     },
     "execution_count": 10,
     "metadata": {},
     "output_type": "execute_result"
    }
   ],
   "source": [
    "new = aggregate_transactions(new_transactions)\n",
    "new.columns = ['new_' + c if c != 'card_id' else c for c in new.columns]\n",
    "new[:5]"
   ]
  },
  {
   "cell_type": "code",
   "execution_count": 11,
   "metadata": {},
   "outputs": [],
   "source": [
    "train = pd.merge(train, history, on='card_id', how='left')\n",
    "test = pd.merge(test, history, on='card_id', how='left')\n",
    "\n",
    "train = pd.merge(train, new, on='card_id', how='left')\n",
    "test = pd.merge(test, new, on='card_id', how='left')\n"
   ]
  },
  {
   "cell_type": "code",
   "execution_count": 12,
   "metadata": {},
   "outputs": [
    {
     "name": "stdout",
     "output_type": "stream",
     "text": [
      "<class 'pandas.core.frame.DataFrame'>\n",
      "Int64Index: 201917 entries, 0 to 201916\n",
      "Data columns (total 92 columns):\n",
      " #   Column                             Non-Null Count   Dtype  \n",
      "---  ------                             --------------   -----  \n",
      " 0   first_active_month                 201917 non-null  object \n",
      " 1   card_id                            201917 non-null  object \n",
      " 2   feature_1                          201917 non-null  int64  \n",
      " 3   feature_2                          201917 non-null  int64  \n",
      " 4   feature_3                          201917 non-null  int64  \n",
      " 5   target                             201917 non-null  float64\n",
      " 6   hist_transactions_count            201917 non-null  int64  \n",
      " 7   hist_authorized_flag_sum           201917 non-null  float64\n",
      " 8   hist_authorized_flag_mean          201917 non-null  float64\n",
      " 9   hist_category_1_sum                201917 non-null  float64\n",
      " 10  hist_category_1_mean               201917 non-null  float64\n",
      " 11  hist_category_2_1.0_mean           201917 non-null  float64\n",
      " 12  hist_category_2_2.0_mean           201917 non-null  float64\n",
      " 13  hist_category_2_3.0_mean           201917 non-null  float64\n",
      " 14  hist_category_2_4.0_mean           201917 non-null  float64\n",
      " 15  hist_category_2_5.0_mean           201917 non-null  float64\n",
      " 16  hist_category_3_A_mean             201917 non-null  float64\n",
      " 17  hist_category_3_B_mean             201917 non-null  float64\n",
      " 18  hist_category_3_C_mean             201917 non-null  float64\n",
      " 19  hist_merchant_id_nunique           201917 non-null  int64  \n",
      " 20  hist_merchant_category_id_nunique  201917 non-null  int64  \n",
      " 21  hist_state_id_nunique              201917 non-null  int64  \n",
      " 22  hist_city_id_nunique               201917 non-null  int64  \n",
      " 23  hist_subsector_id_nunique          201917 non-null  int64  \n",
      " 24  hist_purchase_amount_sum           201917 non-null  float32\n",
      " 25  hist_purchase_amount_mean          201917 non-null  float32\n",
      " 26  hist_purchase_amount_max           201917 non-null  float32\n",
      " 27  hist_purchase_amount_min           201917 non-null  float32\n",
      " 28  hist_purchase_amount_std           201917 non-null  float64\n",
      " 29  hist_installments_sum              201917 non-null  int16  \n",
      " 30  hist_installments_mean             201917 non-null  float64\n",
      " 31  hist_installments_max              201917 non-null  int16  \n",
      " 32  hist_installments_min              201917 non-null  int16  \n",
      " 33  hist_installments_std              201917 non-null  float64\n",
      " 34  hist_purchase_date_ptp             201917 non-null  float64\n",
      " 35  hist_purchase_date_min             201917 non-null  float64\n",
      " 36  hist_purchase_date_max             201917 non-null  float64\n",
      " 37  hist_month_lag_mean                201917 non-null  float64\n",
      " 38  hist_month_lag_max                 201917 non-null  int8   \n",
      " 39  hist_month_lag_min                 201917 non-null  int8   \n",
      " 40  hist_month_lag_std                 201917 non-null  float64\n",
      " 41  hist_month_diff_mean               201917 non-null  float64\n",
      " 42  hist_month_nunique                 201917 non-null  int64  \n",
      " 43  hist_hour_nunique                  201917 non-null  int64  \n",
      " 44  hist_weekofyear_nunique            201917 non-null  int64  \n",
      " 45  hist_dayofweek_nunique             201917 non-null  int64  \n",
      " 46  hist_year_nunique                  201917 non-null  int64  \n",
      " 47  hist_weekend_sum                   201917 non-null  float64\n",
      " 48  hist_weekend_mean                  201917 non-null  float64\n",
      " 49  new_transactions_count             179986 non-null  float64\n",
      " 50  new_authorized_flag_sum            179986 non-null  float64\n",
      " 51  new_authorized_flag_mean           179986 non-null  float64\n",
      " 52  new_category_1_sum                 179986 non-null  float64\n",
      " 53  new_category_1_mean                179986 non-null  float64\n",
      " 54  new_category_2_1.0_mean            179986 non-null  float64\n",
      " 55  new_category_2_2.0_mean            179986 non-null  float64\n",
      " 56  new_category_2_3.0_mean            179986 non-null  float64\n",
      " 57  new_category_2_4.0_mean            179986 non-null  float64\n",
      " 58  new_category_2_5.0_mean            179986 non-null  float64\n",
      " 59  new_category_3_A_mean              179986 non-null  float64\n",
      " 60  new_category_3_B_mean              179986 non-null  float64\n",
      " 61  new_category_3_C_mean              179986 non-null  float64\n",
      " 62  new_merchant_id_nunique            179986 non-null  float64\n",
      " 63  new_merchant_category_id_nunique   179986 non-null  float64\n",
      " 64  new_state_id_nunique               179986 non-null  float64\n",
      " 65  new_city_id_nunique                179986 non-null  float64\n",
      " 66  new_subsector_id_nunique           179986 non-null  float64\n",
      " 67  new_purchase_amount_sum            179986 non-null  float16\n",
      " 68  new_purchase_amount_mean           179986 non-null  float16\n",
      " 69  new_purchase_amount_max            179986 non-null  float16\n",
      " 70  new_purchase_amount_min            179986 non-null  float16\n",
      " 71  new_purchase_amount_std            153199 non-null  float64\n",
      " 72  new_installments_sum               179986 non-null  float64\n",
      " 73  new_installments_mean              179986 non-null  float64\n",
      " 74  new_installments_max               179986 non-null  float64\n",
      " 75  new_installments_min               179986 non-null  float64\n",
      " 76  new_installments_std               153199 non-null  float64\n",
      " 77  new_purchase_date_ptp              179986 non-null  float64\n",
      " 78  new_purchase_date_min              179986 non-null  float64\n",
      " 79  new_purchase_date_max              179986 non-null  float64\n",
      " 80  new_month_lag_mean                 179986 non-null  float64\n",
      " 81  new_month_lag_max                  179986 non-null  float64\n",
      " 82  new_month_lag_min                  179986 non-null  float64\n",
      " 83  new_month_lag_std                  153199 non-null  float64\n",
      " 84  new_month_diff_mean                179986 non-null  float64\n",
      " 85  new_month_nunique                  179986 non-null  float64\n",
      " 86  new_hour_nunique                   179986 non-null  float64\n",
      " 87  new_weekofyear_nunique             179986 non-null  float64\n",
      " 88  new_dayofweek_nunique              179986 non-null  float64\n",
      " 89  new_year_nunique                   179986 non-null  float64\n",
      " 90  new_weekend_sum                    179986 non-null  float64\n",
      " 91  new_weekend_mean                   179986 non-null  float64\n",
      "dtypes: float16(4), float32(4), float64(63), int16(3), int64(14), int8(2), object(2)\n",
      "memory usage: 129.4+ MB\n"
     ]
    }
   ],
   "source": [
    "train.info()"
   ]
  },
  {
   "cell_type": "code",
   "execution_count": 13,
   "metadata": {},
   "outputs": [],
   "source": [
    "from sklearn.impute import SimpleImputer\n",
    "my_imputer = SimpleImputer()"
   ]
  },
  {
   "cell_type": "code",
   "execution_count": 14,
   "metadata": {},
   "outputs": [],
   "source": [
    "feature_cols = [col for col in train.columns if col not in ['target', 'first_active_month', 'card_id']]\n",
    "X = train[feature_cols]\n",
    "\n",
    "# impute missing values\n",
    "X = my_imputer.fit_transform(X)\n",
    "\n",
    "# get the target vector\n",
    "y = train['target']"
   ]
  },
  {
   "cell_type": "code",
   "execution_count": 35,
   "metadata": {},
   "outputs": [],
   "source": [
    "from sklearn.model_selection import train_test_split\n",
    "\n",
    "X_train, X_test, y_train, y_test = train_test_split(X, y, test_size=0.2, random_state=6)"
   ]
  },
  {
   "cell_type": "code",
   "execution_count": 36,
   "metadata": {},
   "outputs": [],
   "source": [
    "from sklearn.neighbors import KNeighborsRegressor\n",
    "from sklearn.tree import DecisionTreeRegressor\n",
    "from sklearn.linear_model import LinearRegression\n",
    "from sklearn.ensemble import RandomForestRegressor\n",
    "\n",
    "reg_predictions = []"
   ]
  },
  {
   "cell_type": "code",
   "execution_count": 37,
   "metadata": {},
   "outputs": [],
   "source": [
    "myKNeighborsReg = KNeighborsRegressor(n_neighbors = 3)\n",
    "\n",
    "myKNeighborsReg.fit(X_train, y_train)\n",
    "\n",
    "y_predict_myKNeighborsReg = myKNeighborsReg.predict(X_test)\n",
    "\n",
    "reg_predictions.append(y_predict_myKNeighborsReg)\n",
    "\n",
    "# TODO: find and change a time stamp feature to a float"
   ]
  },
  {
   "cell_type": "code",
   "execution_count": 38,
   "metadata": {},
   "outputs": [],
   "source": [
    "myDecisionTreeReg = DecisionTreeRegressor(random_state = 5)\n",
    "\n",
    "myDecisionTreeReg.fit(X_train, y_train)\n",
    "\n",
    "y_predict_myDecisionTreeReg = myDecisionTreeReg.predict(X_test)\n",
    "\n",
    "reg_predictions.append(y_predict_myDecisionTreeReg)"
   ]
  },
  {
   "cell_type": "code",
   "execution_count": 39,
   "metadata": {},
   "outputs": [],
   "source": [
    "myLinearReg = LinearRegression()\n",
    "\n",
    "myLinearReg.fit(X_train, y_train)\n",
    "\n",
    "y_predict_myLinearReg = myLinearReg.predict(X_test)\n",
    "\n",
    "reg_predictions.append(y_predict_myLinearReg)"
   ]
  },
  {
   "cell_type": "code",
   "execution_count": 40,
   "metadata": {},
   "outputs": [
    {
     "name": "stdout",
     "output_type": "stream",
     "text": [
      "(201917, 89)\n"
     ]
    },
    {
     "name": "stderr",
     "output_type": "stream",
     "text": [
      "C:\\Users\\wei\\Anaconda3\\lib\\site-packages\\sklearn\\ensemble\\base.py:158: DeprecationWarning: `np.int` is a deprecated alias for the builtin `int`. To silence this warning, use `int` by itself. Doing this will not modify any behavior and is safe. When replacing `np.int`, you may wish to use e.g. `np.int64` or `np.int32` to specify the precision. If you wish to review your current use, check the release note link for additional information.\n",
      "Deprecated in NumPy 1.20; for more details and guidance: https://numpy.org/devdocs/release/1.20.0-notes.html#deprecations\n",
      "  dtype=np.int)\n"
     ]
    }
   ],
   "source": [
    "myRandomForestReg = RandomForestRegressor(n_estimators = 9, bootstrap = True, random_state = 3)\n",
    "\n",
    "myRandomForestReg.fit(X_train, y_train)\n",
    "\n",
    "y_predict_myRandomForestReg = myRandomForestReg.predict(X_test)\n",
    "\n",
    "reg_predictions.append(y_predict_myRandomForestReg)\n",
    "\n",
    "print(X.shape)"
   ]
  },
  {
   "cell_type": "code",
   "execution_count": 41,
   "metadata": {},
   "outputs": [
    {
     "name": "stdout",
     "output_type": "stream",
     "text": [
      "K Nearest Neighbor: 4.281660217556923\n",
      "Decision Tree: 5.38598617486404\n",
      "Linear Regression: 3.810687009242546\n",
      "Random Forest: 3.885427623739086\n"
     ]
    }
   ],
   "source": [
    "from sklearn import metrics\n",
    "\n",
    "for model, y_prediction in zip(['K Nearest Neighbor: ', 'Decision Tree: ', 'Linear Regression: ', 'Random Forest: '], reg_predictions):\n",
    "    mse = metrics.mean_squared_error(y_test, y_prediction)\n",
    "    rmse = np.sqrt(mse)\n",
    "    print(model + str(rmse))"
   ]
  },
  {
   "cell_type": "code",
   "execution_count": 42,
   "metadata": {},
   "outputs": [
    {
     "name": "stdout",
     "output_type": "stream",
     "text": [
      "K Nearest Neighbor: 18.3326142186096\n",
      "Decision Tree: 29.008847075826566\n",
      "Linear Regression: 14.5213354824099\n",
      "Random Forest: 15.096547819314761\n"
     ]
    }
   ],
   "source": [
    "for model, y_prediction in zip(['K Nearest Neighbor: ', 'Decision Tree: ', 'Linear Regression: ', 'Random Forest: '], reg_predictions):\n",
    "    mse = metrics.mean_squared_error(y_test, y_prediction)\n",
    "    print(model + str(mse))"
   ]
  },
  {
   "cell_type": "code",
   "execution_count": 43,
   "metadata": {},
   "outputs": [
    {
     "name": "stdout",
     "output_type": "stream",
     "text": [
      "訓練集:  0.3622714997387203\n",
      "測試集:  -0.27345692924967824\n"
     ]
    }
   ],
   "source": [
    "print('訓練集: ',myKNeighborsReg.score(X_train,y_train))\n",
    "print('測試集: ',myKNeighborsReg.score(X_test,y_test))"
   ]
  },
  {
   "cell_type": "code",
   "execution_count": 44,
   "metadata": {},
   "outputs": [
    {
     "name": "stdout",
     "output_type": "stream",
     "text": [
      "R2 score:  0.3622714997387203\n",
      "MSE score:  15.096547819314761\n",
      "RMSE score:  3.885427623739086\n"
     ]
    }
   ],
   "source": [
    "print('R2 score: ', myKNeighborsReg.score(X_train,y_train))\n",
    "mse = metrics.mean_squared_error(y_test, y_prediction)\n",
    "print('MSE score: ', mse)"
   ]
  },
  {
   "cell_type": "markdown",
   "metadata": {},
   "source": [
    "## PCA"
   ]
  },
  {
   "cell_type": "code",
   "execution_count": 26,
   "metadata": {},
   "outputs": [],
   "source": [
    "from sklearn.decomposition import PCA\n",
    "n = 45 # (n is the number of components (new features)\n",
    "# after dimensionality reduction)\n",
    "my_pca = PCA(n_components = n)\n",
    "# (X_Train is feature matrix of training set before DR,\n",
    "# X_Train_New is feature matrix of training set after DR):\n",
    "X_Train_new = my_pca.fit_transform(X_train)\n",
    "X_Test_new = my_pca.transform(X_test)"
   ]
  },
  {
   "cell_type": "code",
   "execution_count": 27,
   "metadata": {},
   "outputs": [],
   "source": [
    "reg_predictions_new = []"
   ]
  },
  {
   "cell_type": "code",
   "execution_count": 28,
   "metadata": {},
   "outputs": [],
   "source": [
    "myKNeighborsReg = KNeighborsRegressor(n_neighbors = 3)\n",
    "\n",
    "myKNeighborsReg.fit(X_Train_new, y_train)\n",
    "\n",
    "y_predict_myKNeighborsReg = myKNeighborsReg.predict(X_Test_new)\n",
    "\n",
    "reg_predictions_new.append(y_predict_myKNeighborsReg)"
   ]
  },
  {
   "cell_type": "code",
   "execution_count": 29,
   "metadata": {},
   "outputs": [
    {
     "name": "stdout",
     "output_type": "stream",
     "text": [
      "R2 score:  0.36328065679622323\n",
      "MSE score:  15.697200030809258\n"
     ]
    }
   ],
   "source": [
    "print('R2 score: ', myKNeighborsReg.score(X_Train_new,y_train))\n",
    "mse = metrics.mean_squared_error(y_test, y_prediction)\n",
    "print('MSE score: ', mse)"
   ]
  },
  {
   "cell_type": "code",
   "execution_count": 30,
   "metadata": {},
   "outputs": [],
   "source": [
    "myDecisionTreeReg = DecisionTreeRegressor(random_state = 5)\n",
    "\n",
    "myDecisionTreeReg.fit(X_Train_new, y_train)\n",
    "\n",
    "y_predict_myDecisionTreeReg = myDecisionTreeReg.predict(X_Test_new)\n",
    "\n",
    "reg_predictions_new.append(y_predict_myDecisionTreeReg)"
   ]
  },
  {
   "cell_type": "code",
   "execution_count": 31,
   "metadata": {},
   "outputs": [],
   "source": [
    "myLinearReg = LinearRegression()\n",
    "\n",
    "myLinearReg.fit(X_Train_new, y_train)\n",
    "\n",
    "y_predict_myLinearReg = myLinearReg.predict(X_Test_new)\n",
    "\n",
    "reg_predictions_new.append(y_predict_myLinearReg)"
   ]
  },
  {
   "cell_type": "code",
   "execution_count": 32,
   "metadata": {},
   "outputs": [
    {
     "name": "stdout",
     "output_type": "stream",
     "text": [
      "(201917, 89)\n"
     ]
    },
    {
     "name": "stderr",
     "output_type": "stream",
     "text": [
      "C:\\Users\\wei\\Anaconda3\\lib\\site-packages\\sklearn\\ensemble\\base.py:158: DeprecationWarning: `np.int` is a deprecated alias for the builtin `int`. To silence this warning, use `int` by itself. Doing this will not modify any behavior and is safe. When replacing `np.int`, you may wish to use e.g. `np.int64` or `np.int32` to specify the precision. If you wish to review your current use, check the release note link for additional information.\n",
      "Deprecated in NumPy 1.20; for more details and guidance: https://numpy.org/devdocs/release/1.20.0-notes.html#deprecations\n",
      "  dtype=np.int)\n"
     ]
    }
   ],
   "source": [
    "myRandomForestReg = RandomForestRegressor(n_estimators = 9, bootstrap = True, random_state = 3)\n",
    "\n",
    "myRandomForestReg.fit(X_Train_new, y_train)\n",
    "\n",
    "y_predict_myRandomForestReg = myRandomForestReg.predict(X_Test_new)\n",
    "\n",
    "reg_predictions_new.append(y_predict_myRandomForestReg)\n",
    "\n",
    "print(X.shape)"
   ]
  },
  {
   "cell_type": "code",
   "execution_count": 33,
   "metadata": {},
   "outputs": [
    {
     "name": "stdout",
     "output_type": "stream",
     "text": [
      "K Nearest Neighbor: 4.307557087326024\n",
      "Decision Tree: 5.537317671446234\n",
      "Linear Regression: 3.7755488794473293\n",
      "Random Forest: 3.997754230622962\n"
     ]
    }
   ],
   "source": [
    "for model, y_prediction in zip(['K Nearest Neighbor: ', 'Decision Tree: ', 'Linear Regression: ', 'Random Forest: '], reg_predictions_new):\n",
    "    mse = metrics.mean_squared_error(y_test, y_prediction)\n",
    "    rmse = np.sqrt(mse)\n",
    "    print(model + str(rmse))"
   ]
  },
  {
   "cell_type": "code",
   "execution_count": 34,
   "metadata": {},
   "outputs": [
    {
     "name": "stdout",
     "output_type": "stream",
     "text": [
      "K Nearest Neighbor: 18.555048060572656\n",
      "Decision Tree: 27.1802454740287\n",
      "Linear Regression: 14.052478803084796\n",
      "Random Forest: 15.697200030809258\n"
     ]
    }
   ],
   "source": [
    "for model, y_prediction in zip(['K Nearest Neighbor: ', 'Decision Tree: ', 'Linear Regression: ', 'Random Forest: '], reg_predictions):\n",
    "    mse = metrics.mean_squared_error(y_test, y_prediction)\n",
    "    print(model + str(mse))"
   ]
  },
  {
   "cell_type": "code",
   "execution_count": null,
   "metadata": {},
   "outputs": [],
   "source": []
  },
  {
   "cell_type": "code",
   "execution_count": null,
   "metadata": {},
   "outputs": [],
   "source": []
  },
  {
   "cell_type": "code",
   "execution_count": null,
   "metadata": {},
   "outputs": [],
   "source": []
  }
 ],
 "metadata": {
  "kernelspec": {
   "display_name": "Python 3",
   "language": "python",
   "name": "python3"
  },
  "language_info": {
   "codemirror_mode": {
    "name": "ipython",
    "version": 3
   },
   "file_extension": ".py",
   "mimetype": "text/x-python",
   "name": "python",
   "nbconvert_exporter": "python",
   "pygments_lexer": "ipython3",
   "version": "3.7.3"
  }
 },
 "nbformat": 4,
 "nbformat_minor": 2
}
